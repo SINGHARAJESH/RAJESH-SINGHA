{
 "cells": [
  {
   "cell_type": "code",
   "execution_count": null,
   "id": "f6bbe943-4a48-430d-bcf8-92e5e3c684d1",
   "metadata": {},
   "outputs": [],
   "source": [
    " #1,Q. \n",
    " #   i> CLASS :A class in Python is a blueprint or template for creating objects.\n",
    " #      It's a fundamental concept in object-oriented programming (OOP) and is used to define the attributes and behaviors of a group of related objects.\n",
    "   \n",
    " #   ii> OBJECT : An object in a class is an instance of that class. In Python, when you create an object from a class, you are creating an instance of that class.\n",
    " #                Each object has its own unique set of attributes and behaviors, as defined by the class.\n",
    " "
   ]
  },
  {
   "cell_type": "code",
   "execution_count": 4,
   "id": "0e96693d-bf83-4400-a295-c47b4dda8b85",
   "metadata": {},
   "outputs": [
    {
     "name": "stdout",
     "output_type": "stream",
     "text": [
      "2023\n",
      "2022\n"
     ]
    }
   ],
   "source": [
    "# EX-\n",
    "    \n",
    "class car:\n",
    "    def __init__(self,get,model, year):\n",
    "        self.get = get\n",
    "        self.model = model\n",
    "        self.year = year\n",
    "        \n",
    "my_car = car(\"tesla\",\"tesla11\",2023)\n",
    "your_car = car(\"tata\",\"tata_2\",2022)\n",
    "print(my_car.year)\n",
    "print(your_car.year)\n",
    "    "
   ]
  },
  {
   "cell_type": "code",
   "execution_count": null,
   "id": "9a864438-5203-47a9-9ccd-1ae1cc79c4d1",
   "metadata": {},
   "outputs": [],
   "source": []
  },
  {
   "cell_type": "code",
   "execution_count": null,
   "id": "12b6a6d7-c4a7-465e-bb9c-8b30e3eb2bbe",
   "metadata": {},
   "outputs": [],
   "source": [
    "#2,Q\n",
    " # The four pillars of object-oriented programming are: i> Abstraction. ii> Encapsulation\n",
    " #                                                      iii> Inheritance. iv> Polymorphism"
   ]
  },
  {
   "cell_type": "code",
   "execution_count": null,
   "id": "34ebfffb-affe-4bca-9c9d-8d06dd2fc23e",
   "metadata": {},
   "outputs": [],
   "source": [
    "#3,Q \n",
    " #  > The __init__ method lets the class initialize the object's attributes and serves no other purpose. It is only used within classes \n",
    "    "
   ]
  },
  {
   "cell_type": "code",
   "execution_count": 6,
   "id": "0a5398b8-5160-49f3-8dea-0c15c90faaef",
   "metadata": {},
   "outputs": [
    {
     "name": "stdout",
     "output_type": "stream",
     "text": [
      "hello, my name is rajesh\n"
     ]
    }
   ],
   "source": [
    "# 3,Q \n",
    " # example---\n",
    "    \n",
    "class person:\n",
    "    def __init__(self,name):\n",
    "        self.name = name\n",
    "        \n",
    "    def say_hi(self):\n",
    "        print(\"hello, my name is\", self.name)\n",
    "        \n",
    "p = person(\"rajesh\")\n",
    "p.say_hi()"
   ]
  },
  {
   "cell_type": "code",
   "execution_count": null,
   "id": "2e3cf61c-1574-418d-a2d6-c0a18ea040a9",
   "metadata": {},
   "outputs": [],
   "source": [
    "#4,Q.\n",
    " #  In Object-Oriented Programming (OOP), the self keyword is used as a reference to the instance of the class.\n",
    " #   It is used to access the attributes and methods of the class from within the class definition"
   ]
  },
  {
   "cell_type": "code",
   "execution_count": null,
   "id": "627c7959-58f1-4a29-b0cf-bbb9d29780e3",
   "metadata": {},
   "outputs": [],
   "source": [
    "#5,Q\n",
    "   \n",
    "#    > Inheritance is a way of creating a new class from an existing class.\n",
    "    \n",
    " #    Syntax:\n",
    "    \n",
    " #    class Emoloyee: #Base Class\n",
    "      #Code\n",
    "#     class Programmer(Employee): #Derived or child class\n",
    "     \n",
    "\n",
    "  #    We can use the methods and attributes of Employee in Programmer object.\n",
    "   #   Also, we can overwrite or add new attributes and methods in the \n",
    "   #   Programmer class.\n"
   ]
  },
  {
   "cell_type": "code",
   "execution_count": 8,
   "id": "fc7d7462-d66e-4783-8101-055b275e0da4",
   "metadata": {},
   "outputs": [
    {
     "name": "stdout",
     "output_type": "stream",
     "text": [
      "max moves\n",
      "max barks.\n"
     ]
    }
   ],
   "source": [
    "# type of inheritance with example\n",
    "# single ingeritance\n",
    "\n",
    "class Animal:\n",
    "    def __init__(self,name):\n",
    "        self.name = name\n",
    "        \n",
    "    def move(self):\n",
    "        print(f\"{self.name} moves\")\n",
    "class Dog(Animal):\n",
    "    def bark(self):\n",
    "        print(f\"{self.name} barks.\")\n",
    "        \n",
    "dog = Dog(\"max\")\n",
    "dog.move()\n",
    "dog.bark()\n"
   ]
  },
  {
   "cell_type": "code",
   "execution_count": 10,
   "id": "886806c1-9680-4e85-b061-3be28fe33124",
   "metadata": {},
   "outputs": [
    {
     "name": "stdout",
     "output_type": "stream",
     "text": [
      "ROHAN moves\n",
      "ROHAN go\n",
      "ROHAN comes\n"
     ]
    }
   ],
   "source": [
    "# Multiple ingeritance\n",
    "\n",
    "class A :\n",
    "    def __init__(self,name):\n",
    "        self.name = name\n",
    "    def move(self):\n",
    "        print(f\"{self.name} moves\")\n",
    "        \n",
    "class B:\n",
    "    def go(self):\n",
    "        print(f\"{self.name} go\")\n",
    "class C( A,B):\n",
    "    def come(self):\n",
    "        print(f\"{self.name} comes\")\n",
    "        \n",
    "d = C('ROHAN')\n",
    "d.move()\n",
    "d.go()\n",
    "d.come()\n",
    "\n",
    "    "
   ]
  },
  {
   "cell_type": "code",
   "execution_count": null,
   "id": "614a5c37-ffc2-4cf1-9e22-a967f6462890",
   "metadata": {},
   "outputs": [],
   "source": [
    "# MULTILEVEL INGERITANCE\n",
    "\n",
    "class PW:\n",
    "    def __init__(self,course1,course2,course3):\n",
    "        self.course1 = course1\n",
    "        self.course2 = course2\n",
    "        self.course3 = course3\n",
    "    def data(self):\n",
    "        print(f\"{self.course1} course\")\n",
    "\n",
    "class pwskills(PW):\n",
    "    def net(self):\n",
    "        print(f\"{self.course2} course\")\n",
    "\n",
    "class lab(pwskills):\n",
    "    def web(self):\n",
    "        print(f\"{self.course3} course\")\n",
    "\n",
    "c = lab('data science','web development','dsa with java')\n",
    "c.data()\n",
    "c.net()\n",
    "c.web()\n",
    "\n",
    "        \n",
    "    "
   ]
  },
  {
   "cell_type": "code",
   "execution_count": null,
   "id": "00b49697-5f1c-42f8-a3ec-319d3e4d5fb9",
   "metadata": {},
   "outputs": [],
   "source": []
  },
  {
   "cell_type": "code",
   "execution_count": null,
   "id": "8e6d32a4-aa10-4e05-b736-e9e49e18fbc2",
   "metadata": {},
   "outputs": [],
   "source": [
    "# Hierarchical ingeritance\n",
    "class Parent:\n",
    "    def func1(self):\n",
    "        print(\"This function is in parent class.\")\n",
    " \n",
    "\n",
    " \n",
    " \n",
    "class Child1(Parent):\n",
    "    def func2(self):\n",
    "        print(\"This function is in child 1.\")\n",
    " \n",
    " \n",
    " \n",
    "class Child2(Parent):\n",
    "    def func3(self):\n",
    "        print(\"This function is in child 2.\")\n",
    " \n",
    " \n",
    "# Driver's code\n",
    "object1 = Child1()\n",
    "object2 = Child2()\n",
    "object1.func1()\n",
    "object1.func2()\n",
    "object2.func1()\n",
    "object2.func3()\n",
    "    "
   ]
  },
  {
   "cell_type": "code",
   "execution_count": null,
   "id": "6dd8f512-1980-4418-aa3b-1484331167cd",
   "metadata": {},
   "outputs": [],
   "source": []
  }
 ],
 "metadata": {
  "kernelspec": {
   "display_name": "Python 3 (ipykernel)",
   "language": "python",
   "name": "python3"
  },
  "language_info": {
   "codemirror_mode": {
    "name": "ipython",
    "version": 3
   },
   "file_extension": ".py",
   "mimetype": "text/x-python",
   "name": "python",
   "nbconvert_exporter": "python",
   "pygments_lexer": "ipython3",
   "version": "3.10.8"
  }
 },
 "nbformat": 4,
 "nbformat_minor": 5
}
